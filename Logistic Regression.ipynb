{
 "cells": [
  {
   "cell_type": "code",
   "execution_count": 21,
   "metadata": {
    "scrolled": false
   },
   "outputs": [
    {
     "data": {
      "image/png": "[encoded data removed]",
      "text/plain": [
       "<matplotlib.figure.Figure at 0x7fdf3c007510>"
      ]
     },
     "metadata": {},
     "output_type": "display_data"
    }
   ],
   "source": [
    "x1 = [1, 2, 3.5, 4, 5] + [1, 2, 3, 4, 5]\n",
    "x2 = [3, 5, 0.5, 5, 4.5] + [1, 1, 1, 1, 2]\n",
    "y = [1, 1, 1, 1, 1, 0, 0, 0, 0, 0]\n",
    "%matplotlib inline\n",
    "import matplotlib.pyplot as plt\n",
    "plt.plot(x1[0:5], x2[0:5], 'go')\n",
    "plt.plot(x1[5:], x2[5:], 'ro')\n",
    "plt.axis([0, 6, 0, 6])\n",
    "plt.show()"
   ]
  },
  {
   "cell_type": "code",
   "execution_count": 22,
   "metadata": {},
   "outputs": [
    {
     "name": "stdout",
     "output_type": "stream",
     "text": [
      "-2.20483626442179 -0.19028908125248084 1.2570678906792538\n"
     ]
    },
    {
     "data": {
      "image/png": "[encoded data removed]",
      "text/plain": [
       "<matplotlib.figure.Figure at 0x7fdf2c1ac0d0>"
      ]
     },
     "metadata": {},
     "output_type": "display_data"
    }
   ],
   "source": [
    "b0 = 0.7\n",
    "b1 = 0.8\n",
    "b2 = 0.6\n",
    "alpha = 0.01\n",
    "\n",
    "import numpy as np\n",
    "def gauss(z):\n",
    "    return 1.0/(1+np.exp(-z))\n",
    "\n",
    "for j in range(100000):\n",
    "    for i in range(len(x)):\n",
    "        x1t, x2t, ya = x1[i], x2[i], y[i]\n",
    "        yp = gauss(b0 + b1*x1t + b2*x2t)\n",
    "        b0 = b0 + alpha*(ya-yp)\n",
    "        b1 = b1 + alpha*(ya-yp)*x1t\n",
    "        b2 = b2 + alpha*(ya-yp)*x2t\n",
    "        \n",
    "print b0, b1, b2\n",
    "\n",
    "def f(x):\n",
    "    return (-b0-b1*x)*1.0/b2\n",
    "\n",
    "plt.plot(x1[0:5], x2[0:5], 'go')\n",
    "plt.plot(x1[5:], x2[5:], 'ro')\n",
    "plt.axis([0, 6, 0, 6])\n",
    "\n",
    "yp = [f(i) for i in range(7)]\n",
    "plt.plot([i for i in range(7)], yp, 'b-')\n",
    "plt.show()\n"
   ]
  }
 ],
 "metadata": {
  "kernelspec": {
   "display_name": "Python 2",
   "language": "python",
   "name": "python2"
  },
  "language_info": {
   "codemirror_mode": {
    "name": "ipython",
    "version": 2
   },
   "file_extension": ".py",
   "mimetype": "text/x-python",
   "name": "python",
   "nbconvert_exporter": "python",
   "pygments_lexer": "ipython2",
   "version": "2.7.6"
  }
 },
 "nbformat": 4,
 "nbformat_minor": 2
}
