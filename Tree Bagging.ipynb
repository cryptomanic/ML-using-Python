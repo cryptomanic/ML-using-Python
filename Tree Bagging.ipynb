{
 "cells": [
  {
   "cell_type": "code",
   "execution_count": 59,
   "metadata": {},
   "outputs": [
    {
     "name": "stdout",
     "output_type": "stream",
     "text": [
      "[1, 0, 0, 0, 0, 0, 1, 0, 0, 0]\n"
     ]
    }
   ],
   "source": [
    "import pandas as pd\n",
    "from sklearn import tree\n",
    "import numpy as np\n",
    "\n",
    "df = pd.read_csv(\"/home/hp/Desktop/ML-using-Python/tennis.csv\")\n",
    "df['outlook'] = df['outlook'].map({'overcast': 0, 'rainy': 1, 'sunny' : 2})\n",
    "df['temp'] = df['temp'].map({'hot': 0, 'mild': 1, 'cool' : 2})\n",
    "df['humidity'] = df['humidity'].map({'high': 0, 'normal': 1})\n",
    "df['windy'] = df['windy'].map({True: 0, False: 1})\n",
    "df['play'] = df['play'].map({'no': 0, 'yes': 1})\n",
    "\n",
    "X = df.iloc[:, :4].as_matrix()\n",
    "Y = df.iloc[:, [4]].as_matrix()\n",
    "\n",
    "fits = []\n",
    "N = len(df)\n",
    "\n",
    "def bstrap():\n",
    "    return np.random.choice([i for i in range(N)], size = N, replace = True)\n",
    "    \n",
    "\n",
    "def TreeBagging(D):\n",
    "    global fits\n",
    "    fits = [tree.DecisionTreeClassifier(criterion = 'entropy') for i in range(D)]\n",
    "    for i in range(D):\n",
    "        ind = bstrap()\n",
    "        fits[i] = fits[i].fit(X[ind], Y[ind])\n",
    "\n",
    "np.random.seed(18)\n",
    "        \n",
    "# 10 decision trees\n",
    "TreeBagging(10)\n",
    "\n",
    "result = [fits[i].predict([[2, 0, 0, 1]])[0] for i in range(10)]\n",
    "print result\n",
    "\n",
    "# class is 0 i.e. no"
   ]
  }
 ],
 "metadata": {
  "kernelspec": {
   "display_name": "Python 2",
   "language": "python",
   "name": "python2"
  },
  "language_info": {
   "codemirror_mode": {
    "name": "ipython",
    "version": 2
   },
   "file_extension": ".py",
   "mimetype": "text/x-python",
   "name": "python",
   "nbconvert_exporter": "python",
   "pygments_lexer": "ipython2",
   "version": "2.7.6"
  }
 },
 "nbformat": 4,
 "nbformat_minor": 2
}
