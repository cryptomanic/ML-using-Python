{
 "cells": [
  {
   "cell_type": "code",
   "execution_count": 2,
   "metadata": {
    "scrolled": false
   },
   "outputs": [
    {
     "data": {
      "image/png": "[encoded data removed]",
      "text/plain": [
       "<matplotlib.figure.Figure at 0x7f7c8cb33e90>"
      ]
     },
     "metadata": {},
     "output_type": "display_data"
    }
   ],
   "source": [
    "x = [1, 1.5, 2, 2.5, 3, 3.5, 4, 4.5, 5]\n",
    "y = [1, 2, 2.5, 2.5, 3.3, 3.5, 4, 3.75, 5]\n",
    "%matplotlib inline\n",
    "import matplotlib.pyplot as plt\n",
    "plt.plot(x, y, 'ro')\n",
    "plt.axis([0, 6, 0, 6])\n",
    "plt.show()"
   ]
  },
  {
   "cell_type": "code",
   "execution_count": 15,
   "metadata": {
    "scrolled": false
   },
   "outputs": [
    {
     "data": {
      "image/png": "[encoded data removed]",
      "text/plain": [
       "<matplotlib.figure.Figure at 0x7f7c63e105d0>"
      ]
     },
     "metadata": {},
     "output_type": "display_data"
    },
    {
     "name": "stdout",
     "output_type": "stream",
     "text": [
      "0.535758157721 0.841533595865\n"
     ]
    }
   ],
   "source": [
    "b0 = 0.7\n",
    "b1 = 0.8\n",
    "alpha = 0.001\n",
    "\n",
    "for j in range(100000):\n",
    "    for i in range(len(x)):\n",
    "        x1, ya = x[i], y[i]\n",
    "        yp = b0 + b1*x1\n",
    "        b0 = b0 + alpha*(ya-yp)\n",
    "        b1 = b1 + alpha*(ya-yp)*x1\n",
    "\n",
    "yp = [b0 + b1*i for i in range(7)]\n",
    "plt.plot(x, y, 'ro')\n",
    "plt.plot([i for i in range(7)], yp, 'b-')\n",
    "plt.axis([0, 6, 0, 6])\n",
    "plt.show()\n",
    "print b0, b1"
   ]
  }
 ],
 "metadata": {
  "kernelspec": {
   "display_name": "Python 2",
   "language": "python",
   "name": "python2"
  },
  "language_info": {
   "codemirror_mode": {
    "name": "ipython",
    "version": 2
   },
   "file_extension": ".py",
   "mimetype": "text/x-python",
   "name": "python",
   "nbconvert_exporter": "python",
   "pygments_lexer": "ipython2",
   "version": "2.7.6"
  }
 },
 "nbformat": 4,
 "nbformat_minor": 2
}
